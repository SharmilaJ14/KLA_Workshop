{
 "cells": [
  {
   "cell_type": "code",
   "execution_count": 1,
   "id": "9f8ed67f",
   "metadata": {},
   "outputs": [],
   "source": [
    "import json\n",
    "import numpy as np"
   ]
  },
  {
   "cell_type": "code",
   "execution_count": 2,
   "id": "f4ae9f17",
   "metadata": {},
   "outputs": [],
   "source": [
    "f=open('input(l1).json')\n",
    "dimensions=json.load(f)"
   ]
  },
  {
   "cell_type": "code",
   "execution_count": 3,
   "id": "c99cbf40",
   "metadata": {},
   "outputs": [
    {
     "data": {
      "text/plain": [
       "{'die': {'width': 800, 'height': 600, 'rows': 1, 'columns': 5},\n",
       " 'street_width': 0,\n",
       " 'care_areas': [{'top_left': {'x': 0, 'y': 600},\n",
       "   'bottom_right': {'x': 800, 'y': 0}}],\n",
       " 'exclusion_zones': []}"
      ]
     },
     "execution_count": 3,
     "metadata": {},
     "output_type": "execute_result"
    }
   ],
   "source": [
    "dimensions"
   ]
  },
  {
   "cell_type": "code",
   "execution_count": 4,
   "id": "6f904e96",
   "metadata": {},
   "outputs": [
    {
     "data": {
      "text/plain": [
       "dict"
      ]
     },
     "execution_count": 4,
     "metadata": {},
     "output_type": "execute_result"
    }
   ],
   "source": [
    "type(dimensions)"
   ]
  },
  {
   "cell_type": "code",
   "execution_count": 5,
   "id": "8353047b",
   "metadata": {},
   "outputs": [
    {
     "name": "stdout",
     "output_type": "stream",
     "text": [
      "800 600\n"
     ]
    }
   ],
   "source": [
    "w=dimensions['die']['width']\n",
    "h=dimensions['die']['height']\n",
    "print(w,h)"
   ]
  },
  {
   "cell_type": "code",
   "execution_count": 6,
   "id": "7685e1a5",
   "metadata": {},
   "outputs": [
    {
     "name": "stdout",
     "output_type": "stream",
     "text": [
      "[((0, 600), (800, 0))]\n"
     ]
    }
   ],
   "source": [
    "care_areas=[]\n",
    "for i in dimensions['care_areas']:\n",
    "    care_areas.append(((i['top_left']['x'],i['top_left']['y']),(i['bottom_right']['x'],i['bottom_right']['y'])))\n",
    "print(care_areas)"
   ]
  },
  {
   "cell_type": "code",
   "execution_count": 7,
   "id": "5d464a0b",
   "metadata": {},
   "outputs": [],
   "source": [
    "import cv2"
   ]
  },
  {
   "cell_type": "code",
   "execution_count": 17,
   "id": "9f13b6ab",
   "metadata": {},
   "outputs": [],
   "source": [
    "die1=cv2.imread('wafer_image_1(l1).png',cv2.IMREAD_GRAYSCALE)"
   ]
  },
  {
   "cell_type": "code",
   "execution_count": 18,
   "id": "ddc66914",
   "metadata": {},
   "outputs": [
    {
     "name": "stdout",
     "output_type": "stream",
     "text": [
      "[[255 255 255 ... 255 255 255]\n",
      " [128 128 128 ... 128 128 128]\n",
      " [128 128 128 ... 128 128 128]\n",
      " ...\n",
      " [128 128 128 ... 128 128 128]\n",
      " [128 128 128 ... 128 128 128]\n",
      " [128 128 128 ... 128 128 128]]\n"
     ]
    }
   ],
   "source": [
    "print(die1)"
   ]
  },
  {
   "cell_type": "code",
   "execution_count": 19,
   "id": "576d6972",
   "metadata": {},
   "outputs": [],
   "source": [
    "die2=cv2.imread('wafer_image_2(l1).png',cv2.IMREAD_GRAYSCALE)\n",
    "die3=cv2.imread('wafer_image_3(l1).png',cv2.IMREAD_GRAYSCALE)\n",
    "die4=cv2.imread('wafer_image_4(l1).png',cv2.IMREAD_GRAYSCALE)\n",
    "die5=cv2.imread('wafer_image_5(l1).png',cv2.IMREAD_GRAYSCALE)"
   ]
  },
  {
   "cell_type": "code",
   "execution_count": 20,
   "id": "7e93178a",
   "metadata": {},
   "outputs": [
    {
     "data": {
      "text/plain": [
       "(48,)"
      ]
     },
     "execution_count": 20,
     "metadata": {},
     "output_type": "execute_result"
    }
   ],
   "source": [
    "np.unique(die1).shape"
   ]
  },
  {
   "cell_type": "code",
   "execution_count": 30,
   "id": "eea12bbd",
   "metadata": {},
   "outputs": [],
   "source": [
    "wafer=np.stack([die1,die2,die3,die4,die5])"
   ]
  },
  {
   "cell_type": "code",
   "execution_count": 31,
   "id": "ce901256",
   "metadata": {},
   "outputs": [
    {
     "name": "stdout",
     "output_type": "stream",
     "text": [
      "[[[255 255 255 ... 255 255 255]\n",
      "  [128 128 128 ... 128 128 128]\n",
      "  [128 128 128 ... 128 128 128]\n",
      "  ...\n",
      "  [128 128 128 ... 128 128 128]\n",
      "  [128 128 128 ... 128 128 128]\n",
      "  [128 128 128 ... 128 128 128]]\n",
      "\n",
      " [[255 255 255 ... 255 255 255]\n",
      "  [128 128 128 ... 128 128 128]\n",
      "  [128 128 128 ... 128 128 128]\n",
      "  ...\n",
      "  [128 128 128 ... 128 128 128]\n",
      "  [128 128 128 ... 128 128 128]\n",
      "  [128 128 128 ... 128 128 128]]\n",
      "\n",
      " [[255 255 255 ... 255 255 255]\n",
      "  [128 128 128 ... 128 128 128]\n",
      "  [128 128 128 ... 128 128 128]\n",
      "  ...\n",
      "  [128 128 128 ... 128 128 128]\n",
      "  [128 128 128 ... 128 128 128]\n",
      "  [128 128 128 ... 128 128 128]]\n",
      "\n",
      " [[255 255 255 ... 255 255 255]\n",
      "  [128 128 128 ... 128 128 128]\n",
      "  [128 128 128 ... 128 128 128]\n",
      "  ...\n",
      "  [128 128 128 ... 128 128 128]\n",
      "  [128 128 159 ... 128 128 128]\n",
      "  [128 128 128 ... 128 128 128]]\n",
      "\n",
      " [[255 255 255 ... 255 255 255]\n",
      "  [128 128 128 ... 128 128 128]\n",
      "  [128 128 128 ... 128 128 128]\n",
      "  ...\n",
      "  [128 128 128 ... 128 128 128]\n",
      "  [128 128 128 ... 128 128 128]\n",
      "  [128 128 128 ... 128 128 128]]]\n"
     ]
    }
   ],
   "source": [
    "print(wafer)"
   ]
  },
  {
   "cell_type": "code",
   "execution_count": 32,
   "id": "bd42f2dd",
   "metadata": {},
   "outputs": [
    {
     "data": {
      "text/plain": [
       "(5, 600, 800)"
      ]
     },
     "execution_count": 32,
     "metadata": {},
     "output_type": "execute_result"
    }
   ],
   "source": [
    "wafer.shape"
   ]
  },
  {
   "cell_type": "code",
   "execution_count": 36,
   "id": "5d12c4bb",
   "metadata": {},
   "outputs": [
    {
     "name": "stdout",
     "output_type": "stream",
     "text": [
      "[255 255 255 255 255 255 255 255 255 255 255 255 255 255 255 255 255 255\n",
      " 255 255 255 255 255 255 255 255 255 255 255 255 173 255 255 255 255 255\n",
      " 255 255 255 255 255 255 255 255 255 255 255 255 255 255 255 255 255 255\n",
      " 255 255 255 255 255 255 255 255 255 255 255 255 255 255 255 255 255 255\n",
      " 255 255 255 255 255 255 255 255 255 255 255 255 255 159 255 255 255 255\n",
      " 255 255 255 255 255 255 255 255 255 255 255 255 255 255 255 255 255 255\n",
      " 255 255 255 255 255 255 255 255 255 255 255 255 255 255 255 255 255 255\n",
      " 255 255 255 255 255 255 255 255 255 255 255 255 255 255 255 255 255 255\n",
      " 255 255 255 255 255 255 255 255 255 255 255 255 255 255 255 255 255 255\n",
      " 255 255 255 255 255 255 255 255 255 255 255 255 255 255 255 255 255 255\n",
      " 255 255 255 255 255 255 255 255 255 255 255 255 255 255 255 255 255 255\n",
      " 255 255 255 255 255 255 255 255 255 255 255 255 255 255 255 255 255 255\n",
      " 255 255 255 255 255 255 255 255 255 255 255 255 255 255 255 255 255 255\n",
      " 255 133 255 255 255 255 255 255 255 255 255 255 255 255 255 255 255 255\n",
      " 255 255 255 255 255 255 255 255 255 255 255 255 255 255 255 255 255 255\n",
      " 255 255 255 139 255 255 255 255 255 255 255 255 255 255 255 255 255 255\n",
      " 255 255 255 255 255 255 255 255 255 255 255 255 255 255 255 255 255 255\n",
      " 255 255 255 255 255 255 255 255 255 255 255 255 255 255 255 255 255 255\n",
      " 255 255 255 255 255 255 255 255 255 255 255 255 255 255 255 255 255 255\n",
      " 255 255 255 255 255 255 255 255 255 255 255 255 255 255 255 255 255 255\n",
      " 255 255 255 255 255 255 255 255 255 255 255 255 255 255 255 255 255 255\n",
      " 255 255 255 255 255 255 255 255 255 255 255 255 255 255 255 255 255 255\n",
      " 255 255 255 255 255 255 255 255 255 255 255 255 255 255 255 255 255 255\n",
      " 255 255 255 255 255 255 255 255 255 255 255 255 255 255 255 255 255 255\n",
      " 255 255 255 255 255 255 255 255 255 255 255 255 255 255 255 255 255 255\n",
      " 255 255 255 255 255 255 255 255 255 255 255 255 255 255 255 255 255 255\n",
      " 255 255 255 255 255 255 255 255 255 255 255 255 255 255 255 255 255 255\n",
      " 255 255 255 255 255 255 255 255 255 255 255 255 255 255 255 255 255 255\n",
      " 255 255 255 255 255 255 255 255 255 255 255 255 255 255 255 255 255 255\n",
      " 255 255 255 255 255 255 255 255 255 255 255 255 255 255 255 255 255 255\n",
      " 255 255 255 255 255 255 255 255 255 255 255 255 255 255 255 255 255 255\n",
      " 255 255 255 255 255 255 255 255 255 255 255 255 255 255 255 255 255 255\n",
      " 255 255 255 255 255 255 255 255 255 255 255 255 255 255 255 255 255 255\n",
      " 255 255 255 255 255 255 255 255 255 255 255 255 255 255 255 255 255 255\n",
      " 255 255 255 255 255 255 255 255 255 255 255 255 255 255 255 255 255 255\n",
      " 255 255 255 255 255 255 255 255 255 255 255 255 255 255 255 255 255 255\n",
      " 255 255 255 255 255 255 255 255 255 255 255 255 255 255 255 255 255 255\n",
      " 255 255 255 255 255 140 255 255 255 255 255 255 255 255 255 255 255 255\n",
      " 255 255 255 255 255 255 255 255 255 255 255 255 255 255 255 255 255 255\n",
      " 255 255 255 255 255 255 255 255 255 255 255 255 255 255 255 255 255 255\n",
      " 255 255 255 255 255 255 255 255 255 255 255 255 255 255 255 255 255 255\n",
      " 255 255 255 255 255 255 255 255 255 255 255 255 255 255 255 255 255 255\n",
      " 255 255 255 255 255 255 255 255 255 255 255 255 255 255 255 255 255 255\n",
      " 255 255 255 255 255 255 255 255 255 255 255 255 255 255 255 255 255 255\n",
      " 255 255 255 255 255 255 255 255]\n"
     ]
    }
   ],
   "source": [
    "print(wafer[0,0])"
   ]
  },
  {
   "cell_type": "code",
   "execution_count": 28,
   "id": "0059d2e6",
   "metadata": {},
   "outputs": [
    {
     "data": {
      "text/plain": [
       "array([128, 133, 134, 135, 136, 137, 138, 139, 140, 141, 142, 143, 144,\n",
       "       145, 146, 147, 148, 149, 150, 151, 152, 153, 154, 155, 156, 157,\n",
       "       158, 159, 160, 161, 162, 163, 164, 165, 166, 167, 168, 169, 170,\n",
       "       171, 172, 173, 174, 175, 176, 177, 178, 255], dtype=uint8)"
      ]
     },
     "execution_count": 28,
     "metadata": {},
     "output_type": "execute_result"
    }
   ],
   "source": [
    "np.unique(die1)"
   ]
  },
  {
   "cell_type": "markdown",
   "id": "3b0346e1",
   "metadata": {},
   "source": [
    "This model will work under the condition that atleast one image will have the correct pixel for one pixel comparision. Compare the "
   ]
  }
 ],
 "metadata": {
  "kernelspec": {
   "display_name": "Python 3 (ipykernel)",
   "language": "python",
   "name": "python3"
  },
  "language_info": {
   "codemirror_mode": {
    "name": "ipython",
    "version": 3
   },
   "file_extension": ".py",
   "mimetype": "text/x-python",
   "name": "python",
   "nbconvert_exporter": "python",
   "pygments_lexer": "ipython3",
   "version": "3.9.16"
  }
 },
 "nbformat": 4,
 "nbformat_minor": 5
}
